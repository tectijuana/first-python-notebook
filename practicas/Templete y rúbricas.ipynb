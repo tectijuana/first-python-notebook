{
 "cells": [
  {
   "cell_type": "markdown",
   "metadata": {},
   "source": [
    "![](http://tectijuana.edu.mx/wp-content/uploads/2014/11/Heading-Ing-sistemas-2048x672.png)\n",
    "# Iniciarás con Markdown (MD) las generales del Notebook\n",
    "## Nombre _archivo_(puede cambiarlo a su gusto, pero inicie con número)\n",
    "## Objetivo general _(redactarlo al final de la corrida)_\n",
    "##  Nombre del estudiante\n",
    "## Fecha de elaboración\n",
    "\n"
   ]
  },
  {
   "cell_type": "markdown",
   "metadata": {
    "collapsed": true
   },
   "source": [
    "Algoritmos por el Cientifico de datos https://medium.com/@tomas.bouda, basado en Python 3.6 y Anaconda 4.3.1, los notebooks llaman la libreria de \"Bokeh\" http://bokeh.pydata.org/en/latest/ una de tantas librerias para gráficar, GitHub no soporta visualización de esta libreria, debe correrse localmente en el notebook. Los programas puede que tengan bugs, se busca que el estudiante encuentre su estilo de analizar datos."
   ]
  },
  {
   "cell_type": "code",
   "execution_count": null,
   "metadata": {
    "collapsed": true
   },
   "outputs": [],
   "source": []
  },
  {
   "cell_type": "markdown",
   "metadata": {},
   "source": [
    "\n",
    "Tips para TABLAS en markdown vía http://www.tablesgenerator.com/markdown_tables\n",
    "\n",
    "Galeria de Notebooks interesantes https://github.com/jupyter/jupyter/wiki/A-gallery-of-interesting-Jupyter-Notebooks\n",
    "\n"
   ]
  },
  {
   "cell_type": "code",
   "execution_count": null,
   "metadata": {
    "collapsed": true
   },
   "outputs": [],
   "source": []
  }
 ],
 "metadata": {
  "kernelspec": {
   "display_name": "Python 2",
   "language": "python",
   "name": "python2"
  },
  "language_info": {
   "codemirror_mode": {
    "name": "ipython",
    "version": 2
   },
   "file_extension": ".py",
   "mimetype": "text/x-python",
   "name": "python",
   "nbconvert_exporter": "python",
   "pygments_lexer": "ipython2",
   "version": "2.7.13"
  }
 },
 "nbformat": 4,
 "nbformat_minor": 2
}
